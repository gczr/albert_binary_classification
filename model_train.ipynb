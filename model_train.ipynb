{
 "cells": [
  {
   "cell_type": "code",
   "execution_count": 1,
   "metadata": {},
   "outputs": [
    {
     "name": "stderr",
     "output_type": "stream",
     "text": [
      "Using TensorFlow backend.\n"
     ]
    },
    {
     "name": "stdout",
     "output_type": "stream",
     "text": [
      "WARNING:tensorflow:From D:\\学习\\ALBERT_text_classification\\albert_zh\\graph.py:18: The name tf.logging.set_verbosity is deprecated. Please use tf.compat.v1.logging.set_verbosity instead.\n",
      "\n",
      "WARNING:tensorflow:From D:\\学习\\ALBERT_text_classification\\albert_zh\\graph.py:18: The name tf.logging.DEBUG is deprecated. Please use tf.compat.v1.logging.DEBUG instead.\n",
      "\n"
     ]
    }
   ],
   "source": [
    "import os\n",
    "import numpy as np\n",
    "import pandas as pd\n",
    "from data_loader import read_data\n",
    "from keras.utils import to_categorical\n",
    "from keras.models import Model\n",
    "from keras.optimizers import Adam\n",
    "from keras.layers import Input, BatchNormalization, Dense\n",
    "import matplotlib.pyplot as plt\n",
    "\n",
    "from albert_zh.extract_feature import BertVector"
   ]
  },
  {
   "cell_type": "markdown",
   "metadata": {},
   "source": [
    "#### 读取训练样本数据和测试样本数据"
   ]
  },
  {
   "cell_type": "code",
   "execution_count": 2,
   "metadata": {},
   "outputs": [
    {
     "data": {
      "text/html": [
       "<div>\n",
       "<style scoped>\n",
       "    .dataframe tbody tr th:only-of-type {\n",
       "        vertical-align: middle;\n",
       "    }\n",
       "\n",
       "    .dataframe tbody tr th {\n",
       "        vertical-align: top;\n",
       "    }\n",
       "\n",
       "    .dataframe thead th {\n",
       "        text-align: right;\n",
       "    }\n",
       "</style>\n",
       "<table border=\"1\" class=\"dataframe\">\n",
       "  <thead>\n",
       "    <tr style=\"text-align: right;\">\n",
       "      <th></th>\n",
       "      <th>text_len</th>\n",
       "    </tr>\n",
       "  </thead>\n",
       "  <tbody>\n",
       "    <tr>\n",
       "      <th>count</th>\n",
       "      <td>280.000000</td>\n",
       "    </tr>\n",
       "    <tr>\n",
       "      <th>mean</th>\n",
       "      <td>79.085714</td>\n",
       "    </tr>\n",
       "    <tr>\n",
       "      <th>std</th>\n",
       "      <td>37.749597</td>\n",
       "    </tr>\n",
       "    <tr>\n",
       "      <th>min</th>\n",
       "      <td>11.000000</td>\n",
       "    </tr>\n",
       "    <tr>\n",
       "      <th>25%</th>\n",
       "      <td>49.000000</td>\n",
       "    </tr>\n",
       "    <tr>\n",
       "      <th>50%</th>\n",
       "      <td>75.500000</td>\n",
       "    </tr>\n",
       "    <tr>\n",
       "      <th>75%</th>\n",
       "      <td>102.250000</td>\n",
       "    </tr>\n",
       "    <tr>\n",
       "      <th>max</th>\n",
       "      <td>219.000000</td>\n",
       "    </tr>\n",
       "  </tbody>\n",
       "</table>\n",
       "</div>"
      ],
      "text/plain": [
       "         text_len\n",
       "count  280.000000\n",
       "mean    79.085714\n",
       "std     37.749597\n",
       "min     11.000000\n",
       "25%     49.000000\n",
       "50%     75.500000\n",
       "75%    102.250000\n",
       "max    219.000000"
      ]
     },
     "execution_count": 2,
     "metadata": {},
     "output_type": "execute_result"
    }
   ],
   "source": [
    "train_path,test_path = 'data/train.txt','data/test.txt'\n",
    "\n",
    "labels, texts = read_data(train_path)\n",
    "df_train = pd.DataFrame({'label': labels, 'text': texts})\n",
    "\n",
    "labels, texts = read_data(test_path)\n",
    "df_test = pd.DataFrame({'label': labels, 'text': texts})\n",
    "\n",
    "df_train['text_len'] = df_train['text'].apply(lambda x: len(x))\n",
    "#也就是在75%分位的时候，句子长度为102，所以往albert里面灌入的时候，max_seq_len设置为100即可\n",
    "df_train.describe()"
   ]
  },
  {
   "cell_type": "markdown",
   "metadata": {},
   "source": [
    "#### 模型数据准备"
   ]
  },
  {
   "cell_type": "code",
   "execution_count": 3,
   "metadata": {},
   "outputs": [
    {
     "name": "stdout",
     "output_type": "stream",
     "text": [
      "WARNING:tensorflow:From D:\\学习\\ALBERT_text_classification\\albert_zh\\graph.py:18: The name tf.logging.ERROR is deprecated. Please use tf.compat.v1.logging.ERROR instead.\n",
      "\n"
     ]
    },
    {
     "name": "stderr",
     "output_type": "stream",
     "text": [
      "I:\u001b[33mBERT_VEC\u001b[0m:[graph:opt: 48]:model config: D:\\学习\\ALBERT_text_classification\\albert_zh/albert_tiny\\albert_config_tiny.json\n",
      "I:\u001b[33mBERT_VEC\u001b[0m:[graph:opt: 54]:build graph...\n"
     ]
    },
    {
     "name": "stdout",
     "output_type": "stream",
     "text": [
      "embedding_lookup_factorized. factorized embedding parameterization is used.\n",
      "ln_type: postln\n",
      "old structure of transformer.use: transformer_model,which use post-LN\n"
     ]
    },
    {
     "name": "stderr",
     "output_type": "stream",
     "text": [
      "I:\u001b[33mBERT_VEC\u001b[0m:[graph:opt:128]:load parameters from checkpoint...\n",
      "I:\u001b[33mBERT_VEC\u001b[0m:[graph:opt:130]:freeze...\n",
      "I:\u001b[33mBERT_VEC\u001b[0m:[graph:opt:133]:optimize...\n",
      "I:\u001b[33mBERT_VEC\u001b[0m:[graph:opt:144]:write graph to a tmp file: ./tmp_graph11\n"
     ]
    },
    {
     "name": "stdout",
     "output_type": "stream",
     "text": [
      "begin encoding\n",
      "end encoding\n",
      "  label                                               text  text_len  \\\n",
      "0     1  当地时间2月10日，白宫发表声明称，美国总统特朗普及夫人梅拉尼娅将于2月24日至25日访问印...        65   \n",
      "1     0  俄罗斯卫星通讯社11日最新消息，菲律宾总统杜特尔特已下令终止与美国间的《访问部队协定》(VFA)。        49   \n",
      "2     1  据俄罗斯卫星网6日报道，土耳其总统发言人卡林表示，俄罗斯军事代表团将于近日访问安卡拉，讨论叙...        60   \n",
      "3     0  先来说说什么是LPDDR5：要知道，手机中有两种内存颗粒，一种就是DRAM也就是大家常说的“...       107   \n",
      "4     1  在疫情的关键时刻，出现了一件令人感动的事情，让我们明白这才是真正的好朋友，不惧疫情访问我国，...        58   \n",
      "\n",
      "                                                   x  \n",
      "0  [-1.248986, -0.45352226, -0.49957415, -0.35959...  \n",
      "1  [-0.88039243, 0.11325179, -0.7906988, -0.60522...  \n",
      "2  [-0.39357486, 0.36067888, -0.45000237, -0.2815...  \n",
      "3  [-0.360646, -0.27317396, -0.28267634, -0.09917...  \n",
      "4  [-0.7160378, -0.35247326, 0.09846301, -0.04384...  \n",
      "x_train:  (280, 312)\n"
     ]
    }
   ],
   "source": [
    "# 直接从albert中价值预训练好的模型\n",
    "bert_model = BertVector(pooling_strategy=\"REDUCE_MEAN\", max_seq_len=100)\n",
    "\n",
    "print('begin encoding')\n",
    "#利用albert模型对汉字进行编码，生成词向量,这里面的[0]就代表只取第一位的cls的位置的embedding输出，albert的词向量长度是312\n",
    "word_endoder = lambda text: bert_model.encode([text])[\"encodes\"][0]\n",
    "df_train['x'] = df_train['text'].apply(word_endoder)\n",
    "df_test['x']  = df_test['text'].apply(word_endoder)\n",
    "print('end encoding')\n",
    "print(df_train.head())\n",
    "x_train = np.array([vec for vec in df_train['x']])\n",
    "x_test = np.array([vec for vec in df_test['x']])\n",
    "y_train = np.array([vec for vec in df_train['label']])\n",
    "y_test = np.array([vec for vec in df_test['label']])\n",
    "print('x_train: ', x_train.shape)\n",
    "\n",
    "# Convert class vectors to binary class matrices.\n",
    "num_classes = 2\n",
    "y_train = to_categorical(y_train, num_classes)\n",
    "y_test = to_categorical(y_test, num_classes)"
   ]
  },
  {
   "cell_type": "markdown",
   "metadata": {},
   "source": [
    "#### 构建keras模型"
   ]
  },
  {
   "cell_type": "code",
   "execution_count": 4,
   "metadata": {},
   "outputs": [
    {
     "name": "stdout",
     "output_type": "stream",
     "text": [
      "Model: \"model_1\"\n",
      "_________________________________________________________________\n",
      "Layer (type)                 Output Shape              Param #   \n",
      "=================================================================\n",
      "input_1 (InputLayer)         (None, 312)               0         \n",
      "_________________________________________________________________\n",
      "dense_1 (Dense)              (None, 32)                10016     \n",
      "_________________________________________________________________\n",
      "batch_normalization_1 (Batch (None, 32)                128       \n",
      "_________________________________________________________________\n",
      "dense_2 (Dense)              (None, 2)                 66        \n",
      "=================================================================\n",
      "Total params: 10,210\n",
      "Trainable params: 10,146\n",
      "Non-trainable params: 64\n",
      "_________________________________________________________________\n",
      "None\n",
      "Train on 280 samples, validate on 60 samples\n",
      "Epoch 1/20\n",
      "280/280 [==============================] - 0s 2ms/step - loss: 0.4294 - accuracy: 0.8250 - val_loss: 0.2602 - val_accuracy: 0.9667\n",
      "Epoch 2/20\n",
      "280/280 [==============================] - 0s 354us/step - loss: 0.2527 - accuracy: 0.9000 - val_loss: 0.1937 - val_accuracy: 0.9667\n",
      "Epoch 3/20\n",
      "280/280 [==============================] - 0s 490us/step - loss: 0.2283 - accuracy: 0.9179 - val_loss: 0.1693 - val_accuracy: 0.9667\n",
      "Epoch 4/20\n",
      "280/280 [==============================] - 0s 388us/step - loss: 0.1945 - accuracy: 0.9143 - val_loss: 0.1697 - val_accuracy: 0.9500\n",
      "Epoch 5/20\n",
      "280/280 [==============================] - 0s 346us/step - loss: 0.1820 - accuracy: 0.9250 - val_loss: 0.1675 - val_accuracy: 0.9500\n",
      "Epoch 6/20\n",
      "280/280 [==============================] - 0s 374us/step - loss: 0.1787 - accuracy: 0.9357 - val_loss: 0.1360 - val_accuracy: 0.9667\n",
      "Epoch 7/20\n",
      "280/280 [==============================] - 0s 292us/step - loss: 0.1869 - accuracy: 0.9393 - val_loss: 0.1602 - val_accuracy: 0.9667\n",
      "Epoch 8/20\n",
      "280/280 [==============================] - 0s 296us/step - loss: 0.1789 - accuracy: 0.9321 - val_loss: 0.1515 - val_accuracy: 0.9500\n",
      "Epoch 9/20\n",
      "280/280 [==============================] - 0s 563us/step - loss: 0.1759 - accuracy: 0.9429 - val_loss: 0.1367 - val_accuracy: 0.9500\n",
      "Epoch 10/20\n",
      "280/280 [==============================] - 0s 889us/step - loss: 0.1245 - accuracy: 0.9571 - val_loss: 0.1627 - val_accuracy: 0.9500\n",
      "Epoch 11/20\n",
      "280/280 [==============================] - 0s 533us/step - loss: 0.1415 - accuracy: 0.9536 - val_loss: 0.1846 - val_accuracy: 0.9333\n",
      "Epoch 12/20\n",
      "280/280 [==============================] - 0s 449us/step - loss: 0.0987 - accuracy: 0.9714 - val_loss: 0.2195 - val_accuracy: 0.9333\n",
      "Epoch 13/20\n",
      "280/280 [==============================] - 0s 431us/step - loss: 0.0648 - accuracy: 0.9857 - val_loss: 0.2110 - val_accuracy: 0.9333\n",
      "Epoch 14/20\n",
      "280/280 [==============================] - 0s 463us/step - loss: 0.1032 - accuracy: 0.9607 - val_loss: 0.2304 - val_accuracy: 0.9333\n",
      "Epoch 15/20\n",
      "280/280 [==============================] - 0s 484us/step - loss: 0.1352 - accuracy: 0.9571 - val_loss: 0.2312 - val_accuracy: 0.9333\n",
      "Epoch 16/20\n",
      "280/280 [==============================] - 0s 370us/step - loss: 0.0757 - accuracy: 0.9821 - val_loss: 0.2453 - val_accuracy: 0.9167\n",
      "Epoch 17/20\n",
      "280/280 [==============================] - 0s 538us/step - loss: 0.1221 - accuracy: 0.9429 - val_loss: 0.2377 - val_accuracy: 0.9333\n",
      "Epoch 18/20\n",
      "280/280 [==============================] - 0s 368us/step - loss: 0.0987 - accuracy: 0.9750 - val_loss: 0.2123 - val_accuracy: 0.9167\n",
      "Epoch 19/20\n",
      "280/280 [==============================] - 0s 356us/step - loss: 0.0941 - accuracy: 0.9750 - val_loss: 0.1634 - val_accuracy: 0.9500\n",
      "Epoch 20/20\n",
      "280/280 [==============================] - 0s 488us/step - loss: 0.1033 - accuracy: 0.9714 - val_loss: 0.1642 - val_accuracy: 0.9500\n",
      "60/60 [==============================] - 0s 50us/step\n",
      "[0.1641722023487091, 0.949999988079071]\n"
     ]
    }
   ],
   "source": [
    "# 创建模型\n",
    "x_in = Input(shape=(312, ))\n",
    "x_out = Dense(32, activation=\"relu\")(x_in)\n",
    "x_out = BatchNormalization()(x_out)\n",
    "x_out = Dense(num_classes, activation=\"softmax\")(x_out)\n",
    "model = Model(inputs=x_in, outputs=x_out)\n",
    "print(model.summary())\n",
    "\n",
    "model.compile(loss='categorical_crossentropy',\n",
    "              optimizer=Adam(),\n",
    "              metrics=['accuracy'])\n",
    "\n",
    "# 模型训练以及评估\n",
    "history = model.fit(x_train, y_train, validation_data=(x_test, y_test), batch_size=8, epochs=20)\n",
    "#模型存储\n",
    "model.save('visit_classify.h5')\n",
    "print(model.evaluate(x_test, y_test))"
   ]
  },
  {
   "cell_type": "code",
   "execution_count": 5,
   "metadata": {},
   "outputs": [
    {
     "data": {
      "image/png": "[encoded data removed]",
      "text/plain": [
       "<matplotlib.figure.Figure at 0x1b44657beb8>"
      ]
     },
     "metadata": {},
     "output_type": "display_data"
    }
   ],
   "source": [
    "# 绘制loss和acc图像\n",
    "plt.subplot(2, 1, 1)\n",
    "epochs = len(history.history['loss'])\n",
    "plt.plot(range(epochs), history.history['loss'], label='loss')\n",
    "plt.plot(range(epochs), history.history['val_loss'], label='val_loss')\n",
    "plt.legend()\n",
    "\n",
    "plt.subplot(2, 1, 2)\n",
    "epochs = len(history.history['accuracy'])\n",
    "plt.plot(range(epochs), history.history['accuracy'], label='acc')\n",
    "plt.plot(range(epochs), history.history['val_accuracy'], label='val_acc')\n",
    "plt.legend()\n",
    "#plt.savefig(\"loss_acc.png\")\n",
    "plt.show()"
   ]
  }
 ],
 "metadata": {
  "kernelspec": {
   "display_name": "Python 3",
   "language": "python",
   "name": "python3"
  },
  "language_info": {
   "codemirror_mode": {
    "name": "ipython",
    "version": 3
   },
   "file_extension": ".py",
   "mimetype": "text/x-python",
   "name": "python",
   "nbconvert_exporter": "python",
   "pygments_lexer": "ipython3",
   "version": "3.6.1"
  }
 },
 "nbformat": 4,
 "nbformat_minor": 2
}
